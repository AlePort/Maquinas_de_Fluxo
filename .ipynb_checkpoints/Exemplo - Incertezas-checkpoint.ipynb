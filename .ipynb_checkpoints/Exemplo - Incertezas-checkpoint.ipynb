{
 "cells": [
  {
   "cell_type": "code",
   "execution_count": 40,
   "metadata": {},
   "outputs": [
    {
     "data": {
      "image/png": "[encoded data removed]",
      "text/latex": [
       "$\\displaystyle \\left( \\frac{V}{Δt} + \\sqrt{\\frac{V^{2} ω_{Δt}^{2}}{Δt^{4}} + \\frac{ω_{v}^{2}}{Δt^{2}}}, \\  \\frac{V}{Δt} - \\sqrt{\\frac{ω_{v}^{2}}{4} + \\frac{ω_{Δt}^{2}}{16}}\\right)$"
      ],
      "text/plain": [
       "⎛           ________________            _____________⎞\n",
       "⎜          ╱  2     2     2            ╱   2       2 ⎟\n",
       "⎜V        ╱  V ⋅ω_Δt    ωᵥ    V       ╱  ωᵥ    ω_Δt  ⎟\n",
       "⎜── +    ╱   ──────── + ─── , ── -   ╱   ─── + ───── ⎟\n",
       "⎜Δt     ╱        4        2   Δt   ╲╱     4      16  ⎟\n",
       "⎝     ╲╱       Δt       Δt                           ⎠"
      ]
     },
     "execution_count": 40,
     "metadata": {},
     "output_type": "execute_result"
    }
   ],
   "source": [
    "%reset -f\n",
    "%matplotlib notebook\n",
    "from sympy.interactive import printing\n",
    "printing.init_printing(use_latex=True)\n",
    "import matplotlib.pyplot as plt\n",
    "from sympy import *\n",
    "import sympy as sp\n",
    "import numpy as np\n",
    "\n",
    "V, Δt, d, D, ω_v, ω_Δt = symbols('V Δt d D ω_v ω_Δt')\n",
    "\n",
    "Q = V/Δt\n",
    "\n",
    "ω_Q = sqrt((Q.diff(V)*ω_v)**2+(Q.diff(Δt)*ω_Δt)**2)\n",
    "\n",
    "Q + ω_Q, Q - ω_Q.subs([(V,1),(Δt,2)])"
   ]
  },
  {
   "cell_type": "markdown",
   "metadata": {},
   "source": [
    "**2) Sabe-se, pelas medições, que $\\frac{ω_v}{V}$ = 5% e $\\frac{ω_{Δt}}{Δt}$ = 1%, calcule $\\frac{ω_Q}{Q}$.**\n",
    "\n",
    "A partir das respostas do exercício anterior, pela lei do produtório, tem-se que:"
   ]
  },
  {
   "cell_type": "code",
   "execution_count": null,
   "metadata": {},
   "outputs": [],
   "source": []
  },
  {
   "cell_type": "markdown",
   "metadata": {},
   "source": [
    "**Calculadoras**"
   ]
  },
  {
   "cell_type": "code",
   "execution_count": 5,
   "metadata": {},
   "outputs": [
    {
     "name": "stdout",
     "output_type": "stream",
     "text": [
      "0.866949+/-0.028885\n"
     ]
    }
   ],
   "source": [
    "#Calculadora de incerteza:\n",
    "\n",
    "%reset -f\n",
    "from uncertainties import ufloat\n",
    "from math import pi\n",
    "\n",
    "d = ufloat(4.017, 0.066, \"diâmetro\")\n",
    "h = ufloat(6.119, 0.029, \"altura\")\n",
    "t = ufloat(89.45, 0.25, \"tempo\")\n",
    "\n",
    "vazao = pi*h*d**2/(4*t)\n",
    "\n",
    "print(vazao.format('.6f'))"
   ]
  },
  {
   "cell_type": "code",
   "execution_count": 10,
   "metadata": {},
   "outputs": [
    {
     "name": "stdout",
     "output_type": "stream",
     "text": [
      "2.0904301073963363\n"
     ]
    }
   ],
   "source": [
    "#Calculadora t de Student:\n",
    "\n",
    "%reset -f\n",
    "import scipy.stats\n",
    "\n",
    "conf = 0.9\n",
    "σ = 1.180411478\n",
    "\n",
    "def t(alpha, gl):\n",
    "    return scipy.stats.t.ppf(1-(alpha/2), gl)\n",
    "\n",
    "print(t(1 - conf,13)*σ)"
   ]
  }
 ],
 "metadata": {
  "celltoolbar": "Raw Cell Format",
  "hide_input": false,
  "kernelspec": {
   "display_name": "Python 3",
   "language": "python",
   "name": "python3"
  },
  "language_info": {
   "codemirror_mode": {
    "name": "ipython",
    "version": 3
   },
   "file_extension": ".py",
   "mimetype": "text/x-python",
   "name": "python",
   "nbconvert_exporter": "python",
   "pygments_lexer": "ipython3",
   "version": "3.8.5"
  },
  "latex_envs": {
   "LaTeX_envs_menu_present": true,
   "autoclose": false,
   "autocomplete": true,
   "bibliofile": "biblio.bib",
   "cite_by": "apalike",
   "current_citInitial": 1,
   "eqLabelWithNumbers": true,
   "eqNumInitial": 1,
   "hotkeys": {
    "equation": "Ctrl-E",
    "itemize": "Ctrl-I"
   },
   "labels_anchors": false,
   "latex_user_defs": false,
   "report_style_numbering": false,
   "user_envs_cfg": false
  },
  "toc": {
   "base_numbering": 1,
   "nav_menu": {},
   "number_sections": true,
   "sideBar": true,
   "skip_h1_title": false,
   "title_cell": "Table of Contents",
   "title_sidebar": "Contents",
   "toc_cell": false,
   "toc_position": {},
   "toc_section_display": true,
   "toc_window_display": false
  },
  "varInspector": {
   "cols": {
    "lenName": 16,
    "lenType": 16,
    "lenVar": 40
   },
   "kernels_config": {
    "python": {
     "delete_cmd_postfix": "",
     "delete_cmd_prefix": "del ",
     "library": "var_list.py",
     "varRefreshCmd": "print(var_dic_list())"
    },
    "r": {
     "delete_cmd_postfix": ") ",
     "delete_cmd_prefix": "rm(",
     "library": "var_list.r",
     "varRefreshCmd": "cat(var_dic_list()) "
    }
   },
   "types_to_exclude": [
    "module",
    "function",
    "builtin_function_or_method",
    "instance",
    "_Feature"
   ],
   "window_display": false
  }
 },
 "nbformat": 4,
 "nbformat_minor": 4
}
